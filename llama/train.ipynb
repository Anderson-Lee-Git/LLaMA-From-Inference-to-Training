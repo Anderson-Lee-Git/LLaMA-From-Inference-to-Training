{
 "cells": [
  {
   "attachments": {},
   "cell_type": "markdown",
   "metadata": {},
   "source": [
    "**LLaMA**"
   ]
  },
  {
   "cell_type": "code",
   "execution_count": 11,
   "metadata": {},
   "outputs": [],
   "source": [
    "TRAIN_PATH = '../data/'\n",
    "# TEST_PATH = '/home/patrick/Documents/CSE_599/HW/2/testset/test.jsonl'\n",
    "# VAL_PATH = '/home/patrick/Documents/CSE_599/HW/2/valset/val.jsonl'\n",
    "MODEL_PATH = '/Users/anderson/Desktop/Project/LLaMA-From-Inference-to-Training/' #folder with generation.py, model.py, and tokenizer.py\n",
    "TRAINED_SPM_PATH = './tokenizer.model' #downloaded from Ed post"
   ]
  },
  {
   "attachments": {},
   "cell_type": "markdown",
   "metadata": {},
   "source": [
    "**Init**"
   ]
  },
  {
   "cell_type": "code",
   "execution_count": 12,
   "metadata": {},
   "outputs": [],
   "source": [
    "import torch\n",
    "\n",
    "# Make sure INGESTED_SAMPLE_CNT % MAX_BSZ == 0; assymetric batches break something somewhere\n",
    "# MAX_SEQ_LEN = 2048\n",
    "MAX_SEQ_LEN = 512\n",
    "INGESTED_SAMPLE_CNT = 8\n",
    "MAX_BSZ = 16\n",
    "MINI_MODEL = False"
   ]
  },
  {
   "cell_type": "code",
   "execution_count": 13,
   "metadata": {},
   "outputs": [],
   "source": [
    "import sys\n",
    "sys.path.append(MODEL_PATH)\n",
    "\n",
    "# Copyright (c) Meta Platforms, Inc. and affiliates.\n",
    "# This software may be used and distributed according to the terms of the GNU General Public License version 3.\n",
    "from generation import LLaMA\n",
    "from llama.model_train import ModelArgs, Transformer #ctrl+f and comment out cuda, all else same\n",
    "#from model import ModelArgs, Transformer #use this one if you have NVIDIA GPU\n",
    "from tokenizer import Tokenizer"
   ]
  },
  {
   "attachments": {},
   "cell_type": "markdown",
   "metadata": {},
   "source": [
    "**Data**"
   ]
  },
  {
   "attachments": {},
   "cell_type": "markdown",
   "metadata": {},
   "source": [
    "Data Model"
   ]
  },
  {
   "cell_type": "code",
   "execution_count": 14,
   "metadata": {},
   "outputs": [
    {
     "name": "stdout",
     "output_type": "stream",
     "text": [
      "30000\n"
     ]
    }
   ],
   "source": [
    "from torch.nn.utils.rnn import pad_sequence\n",
    "import numpy as np \n",
    "import json\n",
    "from torch.utils.data import Dataset, DataLoader\n",
    "import zstandard as zstd\n",
    "import io\n",
    "\n",
    "tokenizer = Tokenizer(TRAINED_SPM_PATH)\n",
    "\n",
    "def read_line(line):\n",
    "    line = line.strip()\n",
    "    try:\n",
    "        data = json.loads(line)\n",
    "    except ValueError:\n",
    "        return None\n",
    "    return data['text']\n",
    "\n",
    "def read_file(file_path, gbs=1.0, entries=10000):\n",
    "    with open(file_path, 'rb') as file:\n",
    "        decompressor = zstd.ZstdDecompressor()\n",
    "        stream_reader = decompressor.stream_reader(file)\n",
    "        stream = io.TextIOWrapper(stream_reader, encoding='utf-8')\n",
    "\n",
    "        lines = []\n",
    "        for line in stream:\n",
    "            line = read_line(line)\n",
    "            if line is not None:\n",
    "                lines.append(line)\n",
    "            if len(lines) == entries:\n",
    "                break\n",
    "    print(len(lines))\n",
    "    return lines\n",
    "\n",
    "class TextDataset(Dataset):\n",
    "    def __init__(self, texts, tokenizer, random_mask=False, n_mask=1):\n",
    "        self.texts = texts\n",
    "        self.tokenizer = tokenizer\n",
    "        self.random_mask = random_mask\n",
    "        self.n_mask = n_mask\n",
    "\n",
    "    def __len__(self):\n",
    "        return len(self.texts)\n",
    "\n",
    "    def __getitem__(self, idx):\n",
    "        text = self.texts[idx]\n",
    "        encoded_text = self.tokenizer.encode(text, bos=False, eos=False)\n",
    "\n",
    "        if not self.random_mask: \n",
    "            #Truncate the sequence to max_seq_len if it's too long\n",
    "            if len(encoded_text) > MAX_SEQ_LEN - 1:  #We subtract 2 to account for the BOS and EOS tokens\\\n",
    "                                                    #small modification: -1 instead\n",
    "                encoded_text = encoded_text[:MAX_SEQ_LEN - 1]           \n",
    "            return {\n",
    "                'input_ids': torch.tensor([self.tokenizer.bos_id] + encoded_text[:-1], dtype=torch.long),\n",
    "                'target_ids': torch.tensor(encoded_text[1:] + [self.tokenizer.eos_id], dtype=torch.long)\n",
    "            }\n",
    "        else: \n",
    "            if len(encoded_text) > MAX_SEQ_LEN - 2:\n",
    "                encoded_text = encoded_text[:MAX_SEQ_LEN - 2]\n",
    "            return {\n",
    "                'input_ids': torch.tensor([self.tokenizer.bos_id] + self.mask(encoded_text) + [self.tokenizer.eos_id], dtype=torch.long),\n",
    "                'target_ids': torch.tensor([self.tokenizer.bos_id] + encoded_text + [self.tokenizer.eos_id], dtype=torch.long)\n",
    "            }\n",
    "    \n",
    "    def mask(self, encoded_text): \n",
    "        idxs = np.random.choice(range(len(encoded_text)), size=self.n_mask)\n",
    "        encoded_text[idxs] = self.tokenizer.pad_id\n",
    "        return encoded_text\n",
    "\n",
    "\n",
    "def collate_fn(batch):\n",
    "    input_ids = [item['input_ids'] for item in batch]\n",
    "    target_ids = [item['target_ids'] for item in batch]\n",
    "    input_ids = pad_sequence(input_ids, batch_first=True, padding_value=tokenizer.pad_id)\n",
    "    target_ids = pad_sequence(target_ids, batch_first=True, padding_value=tokenizer.pad_id)\n",
    "    return {\n",
    "        'input_ids': input_ids,\n",
    "        'target_ids': target_ids\n",
    "    }\n",
    "\n",
    "def train_test_split(lines, train_n, valid_n, test_n): \n",
    "    train_texts = []\n",
    "    val_texts = []\n",
    "    test_texts = []\n",
    "    for idx, line in enumerate(lines): \n",
    "        if idx < train_n: \n",
    "            train_texts.append(line)\n",
    "        elif idx < train_n + valid_n: \n",
    "            val_texts.append(line)\n",
    "        elif idx < train_n + valid_n + test_n: \n",
    "            test_texts.append(line) \n",
    "        else: \n",
    "            break \n",
    "    return train_texts, val_texts, test_texts\n",
    "\n",
    "# train_texts, val_texts, test_texts = train_test_split(\"../data/02_10000_entries.txt\", 25000, 100, 2000)\n",
    "train_texts, val_texts, test_texts = train_test_split(read_file(\"/Users/anderson/Downloads/02.jsonl.zst\", entries=30000), 27000, 100, 200)\n",
    "\n",
    "train_dataset = TextDataset(train_texts, tokenizer)\n",
    "val_dataset = TextDataset(val_texts, tokenizer)\n",
    "train_dataloader = DataLoader(train_dataset, batch_size=MAX_BSZ, shuffle=True, collate_fn=collate_fn)\n",
    "val_dataloader = DataLoader(val_dataset, batch_size=MAX_BSZ, shuffle=True, collate_fn=collate_fn)"
   ]
  },
  {
   "attachments": {},
   "cell_type": "markdown",
   "metadata": {},
   "source": [
    "Processed Data"
   ]
  },
  {
   "cell_type": "code",
   "execution_count": 15,
   "metadata": {},
   "outputs": [
    {
     "name": "stdout",
     "output_type": "stream",
     "text": [
      "Input type: <class 'list'>\n",
      "Length: 27000\n",
      "First element type: <class 'str'>\n",
      "DATALOADER OVERVIEW\n",
      "Number of Batches: 1688\n",
      "Batch Size: 16\n",
      "\n",
      "First batch overview:\n",
      "Keys:  dict_keys(['input_ids', 'target_ids'])\n",
      "Shape of input_ids tensor: torch.Size([16, 511])\n",
      "Shape of target_ids tensor: torch.Size([16, 511])\n",
      "\n",
      "Dataset overview:\n",
      "Length of Dataset:  27000\n",
      "Example item:  {'input_ids': tensor([    1, 29871,    13,  2856,  2427, 22484,  9464,  6802,  9984, 29889,\n",
      "        19238,    13,    13, 20633,  9464, 29903,   353,   285, 20960, 29946,\n",
      "        29946, 29900,  6579, 29896, 29899,  6252,   760,  4422,   289, 29881,\n",
      "         4467, 29887, 17184,   369, 29899,  1885,  2917,    13,    13,   497,\n",
      "        29901,   599, 29899,  3757, 25397]), 'target_ids': tensor([   13,  2856,  2427, 22484,  9464,  6802,  9984, 29889, 19238,    13,\n",
      "           13, 20633,  9464, 29903,   353,   285, 20960, 29946, 29946, 29900,\n",
      "         6579, 29896, 29899,  6252,   760,  4422,   289, 29881,  4467, 29887,\n",
      "        17184,   369, 29899,  1885,  2917,    13,    13,   497, 29901,   599,\n",
      "        29899,  3757, 25397,    13,     2])}\n"
     ]
    }
   ],
   "source": [
    "def examine_data(data):\n",
    "    '''debugging func'''\n",
    "    print('Input type: {}'.format(type(data)))\n",
    "    print('Length: {}'.format(len(data)))\n",
    "    print('First element type: {}'.format(type(data[0])))\n",
    "    if type(data[0])==dict:\n",
    "        print('Keys: {}'.format(data[0].keys()))\n",
    "    return\n",
    "\n",
    "#debugging tools\n",
    "def examine_tensor(tensor):\n",
    "    '''debugging function'''\n",
    "    print('TENSOR OVERVIEW\\n'\n",
    "          'Type: {}\\n'\n",
    "          'Data Type: {}\\n'\n",
    "          'Shape: {}\\n'\n",
    "          'Number of Dimensions: {}\\n'\n",
    "          'Device: {}\\n'\n",
    "          'Requires Grad: {}\\n'\n",
    "          'Gradient: {}\\n'.format(tensor.type(), tensor.dtype, tensor.shape, tensor.ndim, tensor.device,\\\n",
    "                                  tensor.requires_grad, tensor.grad))\n",
    "    return\n",
    "\n",
    "def flag(msg='unspecified'):\n",
    "    print('FLAG: {}'.format(msg))\n",
    "    return\n",
    "\n",
    "def loop_summary(titles:tuple, tensors:tuple):\n",
    "    for i in range(len(titles)):\n",
    "        flag(titles[i])\n",
    "        examine_tensor(tensors[i])\n",
    "    return\n",
    "\n",
    "def examine_dataloader(dataloader):\n",
    "    '''debugging function'''\n",
    "    print('DATALOADER OVERVIEW\\n'\n",
    "          'Number of Batches: {}\\n'\n",
    "          'Batch Size: {}\\n'.format(len(dataloader), dataloader.batch_size))\n",
    "\n",
    "    # Examine the first batch in the dataloader\n",
    "    first_batch = next(iter(dataloader))\n",
    "    print('First batch overview:')\n",
    "    print('Keys: ', first_batch.keys())\n",
    "    \n",
    "    for key in first_batch.keys():\n",
    "        print('Shape of {} tensor: {}'.format(key, first_batch[key].shape))\n",
    "    \n",
    "    # Examine the dataset\n",
    "    print('\\nDataset overview:')\n",
    "    print('Length of Dataset: ', len(dataloader.dataset))\n",
    "\n",
    "    # Try getting an item from the dataset\n",
    "    try:\n",
    "        print('Example item: ', dataloader.dataset[0])\n",
    "    except Exception as e:\n",
    "        print('Could not retrieve item from dataset: ', str(e))\n",
    "    return\n",
    "\n",
    "examine_data(train_texts)\n",
    "examine_dataloader(train_dataloader)"
   ]
  },
  {
   "attachments": {},
   "cell_type": "markdown",
   "metadata": {},
   "source": [
    "**Training**"
   ]
  },
  {
   "attachments": {},
   "cell_type": "markdown",
   "metadata": {},
   "source": [
    "Configure environment for CPU"
   ]
  },
  {
   "cell_type": "code",
   "execution_count": 16,
   "metadata": {},
   "outputs": [
    {
     "name": "stdout",
     "output_type": "stream",
     "text": [
      "env: RANK=0\n",
      "env: WORLD_SIZE=1\n",
      "env: MASTER_ADDR=localhost\n",
      "env: MASTER_PORT=0\n",
      "> initializing model parallel with size 1\n",
      "> initializing ddp with size 1\n",
      "> initializing pipeline with size 1\n"
     ]
    }
   ],
   "source": [
    "import torch.distributed as dist\n",
    "import fairscale.nn.model_parallel.initialize as fs_init\n",
    "\n",
    "%env RANK=0\n",
    "%env WORLD_SIZE=1\n",
    "%env MASTER_ADDR=localhost\n",
    "%env MASTER_PORT=0\n",
    "\n",
    "torch.distributed.init_process_group(backend='gloo')\n",
    "fs_init.initialize_model_parallel(1) #1 worker\n"
   ]
  },
  {
   "attachments": {},
   "cell_type": "markdown",
   "metadata": {},
   "source": [
    "Instantiate model"
   ]
  },
  {
   "cell_type": "code",
   "execution_count": 17,
   "metadata": {},
   "outputs": [],
   "source": [
    "model_args = ModelArgs(\n",
    "    dim=512,\n",
    "    n_layers=8,\n",
    "    n_heads=8,\n",
    "    vocab_size=tokenizer.n_words,\n",
    "    multiple_of=256,\n",
    "    norm_eps=1e-5,\n",
    "    max_batch_size=MAX_BSZ,\n",
    "    max_seq_len=MAX_SEQ_LEN,\n",
    ")\n",
    "\n",
    "mini_args = ModelArgs(\n",
    "    dim=256,\n",
    "    n_layers=4,\n",
    "    n_heads=4,\n",
    "    vocab_size=tokenizer.n_words,\n",
    "    multiple_of=256,\n",
    "    norm_eps=1e-5,\n",
    "    max_batch_size=MAX_BSZ, #only works for 32; no idea why\n",
    "    max_seq_len=MAX_SEQ_LEN,\n",
    ")\n",
    "\n",
    "if MINI_MODEL: #global var (2nd cell)\n",
    "    model = Transformer(mini_args)\n",
    "else:\n",
    "    model = Transformer(model_args)\n",
    "\n",
    "optimizer = torch.optim.AdamW(model.parameters())\n",
    "loss_func = torch.nn.CrossEntropyLoss(ignore_index=tokenizer.pad_id)  # ignores padding token for loss calculation"
   ]
  },
  {
   "attachments": {},
   "cell_type": "markdown",
   "metadata": {},
   "source": [
    "Training loop"
   ]
  },
  {
   "cell_type": "code",
   "execution_count": 19,
   "metadata": {},
   "outputs": [
    {
     "name": "stdout",
     "output_type": "stream",
     "text": [
      "Batch 1 / 1688\n",
      "training loss = 9.245955467224121\n",
      "validation loss = 8.840428624834333\n",
      "Batch 2 / 1688\n",
      "training loss = 8.846755981445312\n",
      "validation loss = 8.542173930576869\n",
      "Batch 3 / 1688\n"
     ]
    },
    {
     "ename": "KeyboardInterrupt",
     "evalue": "",
     "output_type": "error",
     "traceback": [
      "\u001b[0;31m---------------------------------------------------------------------------\u001b[0m",
      "\u001b[0;31mKeyboardInterrupt\u001b[0m                         Traceback (most recent call last)",
      "Cell \u001b[0;32mIn[19], line 46\u001b[0m\n\u001b[1;32m     44\u001b[0m train_history \u001b[39m=\u001b[39m [] \n\u001b[1;32m     45\u001b[0m val_history \u001b[39m=\u001b[39m []\n\u001b[0;32m---> 46\u001b[0m train_history, val_history \u001b[39m=\u001b[39m train()\n",
      "Cell \u001b[0;32mIn[19], line 27\u001b[0m, in \u001b[0;36mtrain\u001b[0;34m()\u001b[0m\n\u001b[1;32m     24\u001b[0m val_inputs \u001b[39m=\u001b[39m val_batch[\u001b[39m'\u001b[39m\u001b[39minput_ids\u001b[39m\u001b[39m'\u001b[39m]\n\u001b[1;32m     25\u001b[0m val_targets \u001b[39m=\u001b[39m val_batch[\u001b[39m'\u001b[39m\u001b[39mtarget_ids\u001b[39m\u001b[39m'\u001b[39m]\n\u001b[0;32m---> 27\u001b[0m outputs \u001b[39m=\u001b[39m model(val_inputs, start_pos\u001b[39m=\u001b[39;49m\u001b[39m0\u001b[39;49m)\n\u001b[1;32m     28\u001b[0m flat_outputs \u001b[39m=\u001b[39m outputs\u001b[39m.\u001b[39mview(\u001b[39m-\u001b[39m\u001b[39m1\u001b[39m, outputs\u001b[39m.\u001b[39msize(\u001b[39m-\u001b[39m\u001b[39m1\u001b[39m)) \u001b[39m#(bsz*seq_len) x vocab_size\u001b[39;00m\n\u001b[1;32m     29\u001b[0m flat_targets \u001b[39m=\u001b[39m val_targets\u001b[39m.\u001b[39mview(\u001b[39m-\u001b[39m\u001b[39m1\u001b[39m) \u001b[39m#(bsz*seq_len)\u001b[39;00m\n",
      "File \u001b[0;32m~/Desktop/Project/LLaMA-From-Inference-to-Training/.conda/lib/python3.10/site-packages/torch/nn/modules/module.py:1501\u001b[0m, in \u001b[0;36mModule._call_impl\u001b[0;34m(self, *args, **kwargs)\u001b[0m\n\u001b[1;32m   1496\u001b[0m \u001b[39m# If we don't have any hooks, we want to skip the rest of the logic in\u001b[39;00m\n\u001b[1;32m   1497\u001b[0m \u001b[39m# this function, and just call forward.\u001b[39;00m\n\u001b[1;32m   1498\u001b[0m \u001b[39mif\u001b[39;00m \u001b[39mnot\u001b[39;00m (\u001b[39mself\u001b[39m\u001b[39m.\u001b[39m_backward_hooks \u001b[39mor\u001b[39;00m \u001b[39mself\u001b[39m\u001b[39m.\u001b[39m_backward_pre_hooks \u001b[39mor\u001b[39;00m \u001b[39mself\u001b[39m\u001b[39m.\u001b[39m_forward_hooks \u001b[39mor\u001b[39;00m \u001b[39mself\u001b[39m\u001b[39m.\u001b[39m_forward_pre_hooks\n\u001b[1;32m   1499\u001b[0m         \u001b[39mor\u001b[39;00m _global_backward_pre_hooks \u001b[39mor\u001b[39;00m _global_backward_hooks\n\u001b[1;32m   1500\u001b[0m         \u001b[39mor\u001b[39;00m _global_forward_hooks \u001b[39mor\u001b[39;00m _global_forward_pre_hooks):\n\u001b[0;32m-> 1501\u001b[0m     \u001b[39mreturn\u001b[39;00m forward_call(\u001b[39m*\u001b[39;49margs, \u001b[39m*\u001b[39;49m\u001b[39m*\u001b[39;49mkwargs)\n\u001b[1;32m   1502\u001b[0m \u001b[39m# Do not call functions when jit is used\u001b[39;00m\n\u001b[1;32m   1503\u001b[0m full_backward_hooks, non_full_backward_hooks \u001b[39m=\u001b[39m [], []\n",
      "File \u001b[0;32m~/Desktop/Project/LLaMA-From-Inference-to-Training/llama/model_train.py:246\u001b[0m, in \u001b[0;36mTransformer.forward\u001b[0;34m(self, tokens, start_pos)\u001b[0m\n\u001b[1;32m    244\u001b[0m h \u001b[39m=\u001b[39m \u001b[39mself\u001b[39m\u001b[39m.\u001b[39mnorm(h)\n\u001b[1;32m    245\u001b[0m \u001b[39m#output = self.output(h[:, -1, :])  # only compute last logits\u001b[39;00m\n\u001b[0;32m--> 246\u001b[0m output \u001b[39m=\u001b[39m \u001b[39mself\u001b[39;49m\u001b[39m.\u001b[39;49moutput(h) \u001b[39m#training mode; output all logits\u001b[39;00m\n\u001b[1;32m    247\u001b[0m \u001b[39mreturn\u001b[39;00m output\u001b[39m.\u001b[39mfloat()\n",
      "File \u001b[0;32m~/Desktop/Project/LLaMA-From-Inference-to-Training/.conda/lib/python3.10/site-packages/torch/nn/modules/module.py:1501\u001b[0m, in \u001b[0;36mModule._call_impl\u001b[0;34m(self, *args, **kwargs)\u001b[0m\n\u001b[1;32m   1496\u001b[0m \u001b[39m# If we don't have any hooks, we want to skip the rest of the logic in\u001b[39;00m\n\u001b[1;32m   1497\u001b[0m \u001b[39m# this function, and just call forward.\u001b[39;00m\n\u001b[1;32m   1498\u001b[0m \u001b[39mif\u001b[39;00m \u001b[39mnot\u001b[39;00m (\u001b[39mself\u001b[39m\u001b[39m.\u001b[39m_backward_hooks \u001b[39mor\u001b[39;00m \u001b[39mself\u001b[39m\u001b[39m.\u001b[39m_backward_pre_hooks \u001b[39mor\u001b[39;00m \u001b[39mself\u001b[39m\u001b[39m.\u001b[39m_forward_hooks \u001b[39mor\u001b[39;00m \u001b[39mself\u001b[39m\u001b[39m.\u001b[39m_forward_pre_hooks\n\u001b[1;32m   1499\u001b[0m         \u001b[39mor\u001b[39;00m _global_backward_pre_hooks \u001b[39mor\u001b[39;00m _global_backward_hooks\n\u001b[1;32m   1500\u001b[0m         \u001b[39mor\u001b[39;00m _global_forward_hooks \u001b[39mor\u001b[39;00m _global_forward_pre_hooks):\n\u001b[0;32m-> 1501\u001b[0m     \u001b[39mreturn\u001b[39;00m forward_call(\u001b[39m*\u001b[39;49margs, \u001b[39m*\u001b[39;49m\u001b[39m*\u001b[39;49mkwargs)\n\u001b[1;32m   1502\u001b[0m \u001b[39m# Do not call functions when jit is used\u001b[39;00m\n\u001b[1;32m   1503\u001b[0m full_backward_hooks, non_full_backward_hooks \u001b[39m=\u001b[39m [], []\n",
      "File \u001b[0;32m~/Desktop/Project/LLaMA-From-Inference-to-Training/.conda/lib/python3.10/site-packages/fairscale/nn/model_parallel/layers.py:290\u001b[0m, in \u001b[0;36mColumnParallelLinear.forward\u001b[0;34m(self, input_)\u001b[0m\n\u001b[1;32m    288\u001b[0m input_parallel \u001b[39m=\u001b[39m copy_to_model_parallel_region(input_)\n\u001b[1;32m    289\u001b[0m \u001b[39m# Matrix multiply.\u001b[39;00m\n\u001b[0;32m--> 290\u001b[0m output_parallel \u001b[39m=\u001b[39m F\u001b[39m.\u001b[39;49mlinear(input_parallel, \u001b[39mself\u001b[39;49m\u001b[39m.\u001b[39;49mweight, \u001b[39mself\u001b[39;49m\u001b[39m.\u001b[39;49mbias)\n\u001b[1;32m    291\u001b[0m \u001b[39mif\u001b[39;00m \u001b[39mself\u001b[39m\u001b[39m.\u001b[39mgather_output:\n\u001b[1;32m    292\u001b[0m     \u001b[39m# All-gather across the partitions.\u001b[39;00m\n\u001b[1;32m    293\u001b[0m     output \u001b[39m=\u001b[39m gather_from_model_parallel_region(output_parallel)\n",
      "\u001b[0;31mKeyboardInterrupt\u001b[0m: "
     ]
    }
   ],
   "source": [
    "def train():\n",
    "    model.train()\n",
    "    total_loss = 0\n",
    "\n",
    "    for i, batch in enumerate(train_dataloader):\n",
    "        print(f\"Batch {i+1} / {len(train_dataloader)}\")\n",
    "        inputs = batch['input_ids'] #bsz x seq_len \n",
    "        targets = batch['target_ids'] #bsz x seq_len\n",
    "        # examine_tensor(targets)\n",
    "\n",
    "        outputs = model(inputs, start_pos=0) #bsz x sel_len x vocab_size\n",
    "\n",
    "        flat_outputs = outputs.view(-1, outputs.size(-1)) #(bsz*seq_len) x vocab_size\n",
    "\n",
    "        flat_targets = targets.view(-1) #(bsz*seq_len)\n",
    "\n",
    "        loss = loss_func(flat_outputs, flat_targets) #might be incorrect to flatten, idk\n",
    "        loss.backward()\n",
    "        optimizer.step()\n",
    "        optimizer.zero_grad()\n",
    "        val_loss = 0\n",
    "\n",
    "        for val_batch in val_dataloader: \n",
    "            val_inputs = val_batch['input_ids']\n",
    "            val_targets = val_batch['target_ids']\n",
    "\n",
    "            outputs = model(val_inputs, start_pos=0)\n",
    "            flat_outputs = outputs.view(-1, outputs.size(-1)) #(bsz*seq_len) x vocab_size\n",
    "            flat_targets = val_targets.view(-1) #(bsz*seq_len)\n",
    "            val_loss += loss_func(flat_outputs, flat_targets).item()\n",
    "        \n",
    "        val_loss = val_loss / len(val_dataloader)\n",
    "        \n",
    "        print(f\"training loss = {loss.item()}\")\n",
    "        print(f\"validation loss = {val_loss}\")\n",
    "        total_loss += loss.item()\n",
    "        train_history.append(loss.item())\n",
    "        val_history.append(val_loss)\n",
    "    \n",
    "    avg_train_loss = total_loss / len(train_dataloader)\n",
    "    print(\"Average training loss: {0:.2f}\".format(avg_train_loss))\n",
    "    return train_history, val_history \n",
    "\n",
    "train_history = [] \n",
    "val_history = []\n",
    "train_history, val_history = train()"
   ]
  },
  {
   "cell_type": "code",
   "execution_count": null,
   "metadata": {},
   "outputs": [
    {
     "data": {
      "text/plain": [
       "<matplotlib.legend.Legend at 0x14b6cb2e0>"
      ]
     },
     "execution_count": 15,
     "metadata": {},
     "output_type": "execute_result"
    },
    {
     "data": {
      "image/png": "[encoded data removed]",
      "text/plain": [
       "<Figure size 640x480 with 1 Axes>"
      ]
     },
     "metadata": {},
     "output_type": "display_data"
    }
   ],
   "source": [
    "import matplotlib.pyplot as plt \n",
    "\n",
    "plt.plot(range(len(train_history)), train_history, label='train')\n",
    "plt.plot(range(len(val_history)), val_history, label='val')\n",
    "plt.legend()"
   ]
  },
  {
   "cell_type": "code",
   "execution_count": null,
   "metadata": {},
   "outputs": [],
   "source": [
    "import os\n",
    "import shutil\n",
    "\n",
    "dir = './ckpts/test_ckpt'\n",
    "if os.path.exists(dir):\n",
    "    shutil.rmtree(dir)\n",
    "os.makedirs(dir)\n",
    "\n",
    "torch.save({\n",
    "    'model_state_dict': model.state_dict(),\n",
    "    'optimizer_state_dict': optimizer.state_dict()\n",
    "}, \"ckpts/test_ckpt/model.pth\")\n",
    "\n",
    "json_params = json.dumps({\n",
    "    \"dim\": model_args.dim, \n",
    "    \"n_layers\": model_args.n_layers, \n",
    "    \"n_heads\": model_args.n_heads, \n",
    "    \"vocab_size\": model_args.vocab_size, \n",
    "    \"multiple_of\": model_args.multiple_of, \n",
    "    \"norm_eps\": model_args.norm_eps, \n",
    "}, indent=4)\n",
    "\n",
    "with open(dir + \"/params.json\", \"w\") as outfile:\n",
    "    outfile.write(json_params)"
   ]
  }
 ],
 "metadata": {
  "kernelspec": {
   "display_name": "AMATH-Python3",
   "language": "python",
   "name": "python3"
  },
  "language_info": {
   "codemirror_mode": {
    "name": "ipython",
    "version": 3
   },
   "file_extension": ".py",
   "mimetype": "text/x-python",
   "name": "python",
   "nbconvert_exporter": "python",
   "pygments_lexer": "ipython3",
   "version": "3.10.11"
  },
  "orig_nbformat": 4
 },
 "nbformat": 4,
 "nbformat_minor": 2
}
