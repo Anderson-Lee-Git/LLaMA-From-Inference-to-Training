{
 "cells": [
  {
   "cell_type": "code",
   "execution_count": 3,
   "metadata": {},
   "outputs": [
    {
     "name": "stdout",
     "output_type": "stream",
     "text": [
      "10000\n"
     ]
    }
   ],
   "source": [
    "import json\n",
    "import io\n",
    "import zstandard as zstd\n",
    "\n",
    "file_path = '/Users/anderson/Downloads/11.jsonl.zst'\n",
    "\n",
    "def read_line(line):\n",
    "    line = line.strip()\n",
    "    try:\n",
    "        data = json.loads(line)\n",
    "    except ValueError:\n",
    "        return None\n",
    "    return data['text']\n",
    "\n",
    "def read_file(file_path, gbs=1.0, entries=10000):\n",
    "    with open(file_path, 'rb') as file:\n",
    "        decompressor = zstd.ZstdDecompressor()\n",
    "        stream_reader = decompressor.stream_reader(file)\n",
    "        stream = io.TextIOWrapper(stream_reader, encoding='utf-8')\n",
    "\n",
    "        lines = []\n",
    "        for line in stream:\n",
    "            line = read_line(line)\n",
    "            if line is not None:\n",
    "                lines.append(line)\n",
    "            if len(lines) == entries:\n",
    "                break\n",
    "    print(len(lines))\n",
    "    return lines\n",
    "\n",
    "def write_file(to_path, lines): \n",
    "    with open(to_path, 'w') as file: \n",
    "        for line in lines:\n",
    "            file.write(line)\n",
    "\n",
    "if __name__ == \"__main__\":\n",
    "    write_file('11_10000_entries.txt', read_file(file_path, entries=10000))\n",
    "    # write_file('11.txt', read_file(file_path, entries=100000))"
   ]
  }
 ],
 "metadata": {
  "kernelspec": {
   "display_name": "Python 3",
   "language": "python",
   "name": "python3"
  },
  "language_info": {
   "codemirror_mode": {
    "name": "ipython",
    "version": 3
   },
   "file_extension": ".py",
   "mimetype": "text/x-python",
   "name": "python",
   "nbconvert_exporter": "python",
   "pygments_lexer": "ipython3",
   "version": "3.10.11"
  },
  "orig_nbformat": 4
 },
 "nbformat": 4,
 "nbformat_minor": 2
}
